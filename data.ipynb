{
  "nbformat": 4,
  "nbformat_minor": 0,
  "metadata": {
    "colab": {
      "name": "data.ipynb",
      "provenance": [],
      "authorship_tag": "ABX9TyNUgeH330UhDnq2Ga7XRTY/"
    },
    "kernelspec": {
      "name": "python3",
      "display_name": "Python 3"
    },
    "language_info": {
      "name": "python"
    }
  },
  "cells": [
    {
      "cell_type": "markdown",
      "metadata": {
        "id": "53TLK-z_QS0p"
      },
      "source": [
        "# Afterburner Data Collector"
      ]
    },
    {
      "cell_type": "markdown",
      "metadata": {
        "id": "hP5W_HCbQVhp"
      },
      "source": [
        "## 1. Environment Setup"
      ]
    },
    {
      "cell_type": "markdown",
      "metadata": {
        "id": "-1XfdqmFQjsF"
      },
      "source": [
        "### 1-1. Install Packages"
      ]
    },
    {
      "cell_type": "code",
      "metadata": {
        "id": "JdPErLxjQjUN"
      },
      "source": [
        "import time\n",
        "import json\n",
        "\n",
        "import pandas as pd"
      ],
      "execution_count": 105,
      "outputs": []
    },
    {
      "cell_type": "markdown",
      "metadata": {
        "id": "6y2ag66qQZIt"
      },
      "source": [
        "### 1-2. Selenium Setup"
      ]
    },
    {
      "cell_type": "code",
      "metadata": {
        "colab": {
          "base_uri": "https://localhost:8080/"
        },
        "id": "AA0PyjiwOLB5",
        "outputId": "e873ffab-0449-48a6-9ad5-06b73da98da7"
      },
      "source": [
        "!pip install selenium\n",
        "!apt-get update # to update ubuntu to correctly run apt install\n",
        "!apt install chromium-chromedriver\n",
        "!cp /usr/lib/chromium-browser/chromedriver /usr/bin"
      ],
      "execution_count": 30,
      "outputs": [
        {
          "output_type": "stream",
          "text": [
            "Requirement already satisfied: selenium in /usr/local/lib/python3.7/dist-packages (3.141.0)\n",
            "Requirement already satisfied: urllib3 in /usr/local/lib/python3.7/dist-packages (from selenium) (1.24.3)\n",
            "Get:1 http://security.ubuntu.com/ubuntu bionic-security InRelease [88.7 kB]\n",
            "Hit:2 https://cloud.r-project.org/bin/linux/ubuntu bionic-cran40/ InRelease\n",
            "Ign:3 https://developer.download.nvidia.com/compute/cuda/repos/ubuntu1804/x86_64  InRelease\n",
            "Hit:4 http://archive.ubuntu.com/ubuntu bionic InRelease\n",
            "Hit:5 http://ppa.launchpad.net/c2d4u.team/c2d4u4.0+/ubuntu bionic InRelease\n",
            "Ign:6 https://developer.download.nvidia.com/compute/machine-learning/repos/ubuntu1804/x86_64  InRelease\n",
            "Hit:7 https://developer.download.nvidia.com/compute/cuda/repos/ubuntu1804/x86_64  Release\n",
            "Hit:8 https://developer.download.nvidia.com/compute/machine-learning/repos/ubuntu1804/x86_64  Release\n",
            "Get:9 http://archive.ubuntu.com/ubuntu bionic-updates InRelease [88.7 kB]\n",
            "Hit:10 http://ppa.launchpad.net/cran/libgit2/ubuntu bionic InRelease\n",
            "Hit:11 http://ppa.launchpad.net/deadsnakes/ppa/ubuntu bionic InRelease\n",
            "Get:12 http://archive.ubuntu.com/ubuntu bionic-backports InRelease [74.6 kB]\n",
            "Hit:13 http://ppa.launchpad.net/graphics-drivers/ppa/ubuntu bionic InRelease\n",
            "Fetched 252 kB in 3s (100 kB/s)\n",
            "Reading package lists... Done\n",
            "Reading package lists... Done\n",
            "Building dependency tree       \n",
            "Reading state information... Done\n",
            "chromium-chromedriver is already the newest version (92.0.4515.159-0ubuntu0.18.04.1).\n",
            "The following package was automatically installed and is no longer required:\n",
            "  libnvidia-common-460\n",
            "Use 'apt autoremove' to remove it.\n",
            "0 upgraded, 0 newly installed, 0 to remove and 57 not upgraded.\n",
            "cp: '/usr/lib/chromium-browser/chromedriver' and '/usr/bin/chromedriver' are the same file\n"
          ],
          "name": "stdout"
        }
      ]
    },
    {
      "cell_type": "code",
      "metadata": {
        "id": "uSVMhq0_OOL6"
      },
      "source": [
        "import sys\n",
        "sys.path.insert(0,'/usr/lib/chromium-browser/chromedriver')"
      ],
      "execution_count": null,
      "outputs": []
    },
    {
      "cell_type": "code",
      "metadata": {
        "id": "1Rf1LiTTHS0y"
      },
      "source": [
        "from selenium import webdriver\n",
        "chrome_options = webdriver.ChromeOptions()\n",
        "chrome_options.add_argument('--headless')\n",
        "chrome_options.add_argument('--no-sandbox')\n",
        "chrome_options.add_argument('--disable-dev-shm-usage')\n",
        "chrome_options.add_argument(\"user-agent=Mozilla/5.0 (Windows NT 6.1; WOW64; Trident/7.0; rv:11.0) like Gecko\")\n",
        "wd = webdriver.Chrome('chromedriver', options=chrome_options)"
      ],
      "execution_count": 40,
      "outputs": []
    },
    {
      "cell_type": "markdown",
      "metadata": {
        "id": "tIoIiwqzWs5Y"
      },
      "source": [
        "### 1-3. Global Variables"
      ]
    },
    {
      "cell_type": "code",
      "metadata": {
        "id": "bQUA8MjmWwQQ"
      },
      "source": [
        "NUM_SCROLL = 10\n",
        "SHORT_WAIT_TIME = 2\n",
        "MEDIUM_WAIT_TIME = 5\n",
        "LONG_WAIT_TIME = 10"
      ],
      "execution_count": null,
      "outputs": []
    },
    {
      "cell_type": "markdown",
      "metadata": {
        "id": "FRLAsBvSQs_A"
      },
      "source": [
        "## 2. Data Collection"
      ]
    },
    {
      "cell_type": "markdown",
      "metadata": {
        "id": "aiwyP_E6Qu7V"
      },
      "source": [
        "### 2-1. Instagram Login"
      ]
    },
    {
      "cell_type": "code",
      "metadata": {
        "id": "RDVlLs5nU4-j"
      },
      "source": [
        "with open(\"keys.json\", \"r\") as f:\n",
        "    keys = json.load(f)"
      ],
      "execution_count": 102,
      "outputs": []
    },
    {
      "cell_type": "code",
      "metadata": {
        "id": "1xW1M_cuJpI3"
      },
      "source": [
        "wd.get('https://www.instagram.com')\n",
        "time.sleep(MEDIUM_WAIT_TIME)"
      ],
      "execution_count": 60,
      "outputs": []
    },
    {
      "cell_type": "code",
      "metadata": {
        "id": "nPFulBmoLvix"
      },
      "source": [
        "username = wd.find_element_by_css_selector('#loginForm > div > div:nth-child(1) > div > label > input')\n",
        "password = wd.find_element_by_css_selector('#loginForm > div > div:nth-child(2) > div > label > input')\n",
        "login = wd.find_element_by_css_selector('#loginForm > div > div:nth-child(3) > button')"
      ],
      "execution_count": 61,
      "outputs": []
    },
    {
      "cell_type": "code",
      "metadata": {
        "id": "WQNrubcKL8o3"
      },
      "source": [
        "username.send_keys(keys['id'])\n",
        "time.sleep(SHORT_WAIT_TIME)\n",
        "password.send_keys(keys['pw'])\n",
        "time.sleep(SHORT_WAIT_TIME)\n",
        "login.click()\n",
        "time.sleep(SHORT_WAIT_TIME)"
      ],
      "execution_count": 62,
      "outputs": []
    },
    {
      "cell_type": "code",
      "metadata": {
        "id": "KOkpawuQMN7d"
      },
      "source": [
        "wd.find_element_by_css_selector('#react-root > section > div > div > div.GA2q- > form > span > button').click()\n",
        "time.sleep(SHORT_WAIT_TIME)"
      ],
      "execution_count": 67,
      "outputs": []
    },
    {
      "cell_type": "code",
      "metadata": {
        "colab": {
          "base_uri": "https://localhost:8080/"
        },
        "id": "PpyspiHxNjtE",
        "outputId": "e7527f93-4267-4814-e958-56aacb249b59"
      },
      "source": [
        "wd.find_element_by_css_selector('input').click()\n",
        "time.sleep(SHORT_WAIT_TIME)\n",
        "\n",
        "code = input('Keys:')\n",
        "\n",
        "security.send_keys(code)\n",
        "time.sleep(SHORT_WAIT_TIME)"
      ],
      "execution_count": 69,
      "outputs": [
        {
          "output_type": "stream",
          "text": [
            "Keys:271094\n"
          ],
          "name": "stdout"
        }
      ]
    },
    {
      "cell_type": "code",
      "metadata": {
        "id": "q3vy8XdmOFk6"
      },
      "source": [
        "submit = wd.find_element_by_css_selector('#react-root > section > div > div > div.GA2q- > form > span > button')\n",
        "submit.click()\n",
        "time.sleep(SHORT_WAIT_TIME)"
      ],
      "execution_count": 71,
      "outputs": []
    },
    {
      "cell_type": "markdown",
      "metadata": {
        "id": "ImgoiTX4QxxB"
      },
      "source": [
        "### 2-2. Retrieve Post List"
      ]
    },
    {
      "cell_type": "code",
      "metadata": {
        "id": "odAXj5KeOeMo"
      },
      "source": [
        "wd.get('https://www.instagram.com/explore/tags/공스타그램/')"
      ],
      "execution_count": 74,
      "outputs": []
    },
    {
      "cell_type": "code",
      "metadata": {
        "id": "GQSNFfb9QKxN"
      },
      "source": [
        "for i in range(NUM_SCROLL):\n",
        "    wd.execute_script(\"window.scrollTo(0, document.body.scrollHeight);\")\n",
        "\n",
        "    time.sleep(LONG_WAIT_TIME)\n",
        "\n",
        "wd.get('https://www.instagram.com')\n",
        "time.sleep(LONG_WAIT_TIME)"
      ],
      "execution_count": 83,
      "outputs": []
    },
    {
      "cell_type": "code",
      "metadata": {
        "id": "nTauhnnMR3mY"
      },
      "source": [
        "posts = wd.find_elements_by_css_selector('#react-root > section > main > article > div:nth-child(3) > div > div > div > a')\n",
        "print(len(posts))"
      ],
      "execution_count": 94,
      "outputs": []
    },
    {
      "cell_type": "code",
      "metadata": {
        "colab": {
          "base_uri": "https://localhost:8080/"
        },
        "id": "Y6jasO1-R8f0",
        "outputId": "8c397e9b-b904-43e1-f816-a0774e568c94"
      },
      "source": [
        "for post in posts:\n",
        "    wd.get(post.get_attribute('href'))\n",
        "\n",
        "    wd.find_elements_by_css_selector('#react-root > section > main > div > div.ltEKP > article > div.eo2As > div.EtaWk > ul > div > li > div > div > div.C4VMK > span')\n",
        "\n",
        "    time.sleep(LONG_WAIT_TIME)"
      ],
      "execution_count": 97,
      "outputs": [
        {
          "output_type": "stream",
          "text": [
            "https://www.instagram.com/p/CTJQBaShlaj/\n",
            "https://www.instagram.com/p/CTJP-DslAWW/\n",
            "https://www.instagram.com/p/CTJP7t5Fqfp/\n",
            "https://www.instagram.com/p/CTJP7PZhvPI/\n",
            "https://www.instagram.com/p/CTJP5IenjHK/\n",
            "https://www.instagram.com/p/CTJPzLAp7Dc/\n",
            "https://www.instagram.com/p/CTJPj4pBVg3/\n",
            "https://www.instagram.com/p/CTJPmy1hshp/\n",
            "https://www.instagram.com/p/CTJPmYKL2wm/\n",
            "https://www.instagram.com/p/CTJPmRhhCo4/\n",
            "https://www.instagram.com/p/CTJPdcalbBL/\n",
            "https://www.instagram.com/p/CTJPNnYBAmc/\n",
            "https://www.instagram.com/p/CTJPaB5nAPw/\n",
            "https://www.instagram.com/p/CTJOz-phVc5/\n",
            "https://www.instagram.com/p/CTJEkKwHY6B/\n",
            "https://www.instagram.com/p/CTJCZKRpvJD/\n",
            "https://www.instagram.com/p/CTIPlTuhd1W/\n",
            "https://www.instagram.com/p/CTGnmR5AhU3/\n",
            "https://www.instagram.com/p/CTJPcYph4BF/\n",
            "https://www.instagram.com/p/CTJPYhnBoJ7/\n",
            "https://www.instagram.com/p/CTJPUU3Bs-6/\n",
            "https://www.instagram.com/p/CTJPRnzh4bF/\n",
            "https://www.instagram.com/p/CTJPRovhD7n/\n",
            "https://www.instagram.com/p/CTJPRbghs1m/\n",
            "https://www.instagram.com/p/CTJPQERBU13/\n",
            "https://www.instagram.com/p/CTJNL0khXve/\n",
            "https://www.instagram.com/p/CTJPCI5hrb3/\n",
            "https://www.instagram.com/p/CTJO_qdhRoF/\n",
            "https://www.instagram.com/p/CTJO_VBF4N_/\n",
            "https://www.instagram.com/p/CTJO-xpJoB4/\n",
            "https://www.instagram.com/p/CTJO9ndFTVM/\n",
            "https://www.instagram.com/p/CTJO81wBNBB/\n",
            "https://www.instagram.com/p/CTJO50aBfya/\n",
            "https://www.instagram.com/p/CTJO0u1l9eK/\n",
            "https://www.instagram.com/p/CTJOvCihkz1/\n",
            "https://www.instagram.com/p/CTJOqFTFYYk/\n",
            "https://www.instagram.com/p/CTJOrt-BnN3/\n",
            "https://www.instagram.com/p/CTJOqW9lREr/\n",
            "https://www.instagram.com/p/CTJOotEhCFl/\n",
            "https://www.instagram.com/p/CTJOoDdhYqJ/\n",
            "https://www.instagram.com/p/CTJOoDOhvQq/\n",
            "https://www.instagram.com/p/CTJOoBWBf_l/\n"
          ],
          "name": "stdout"
        }
      ]
    },
    {
      "cell_type": "code",
      "metadata": {
        "colab": {
          "base_uri": "https://localhost:8080/"
        },
        "id": "Y5E1ZUFfJsif",
        "outputId": "6e87c11b-fd47-467f-e152-57f4fd3a082a"
      },
      "source": [
        "wd.save_screenshot('current.png')"
      ],
      "execution_count": 96,
      "outputs": [
        {
          "output_type": "execute_result",
          "data": {
            "text/plain": [
              "True"
            ]
          },
          "metadata": {},
          "execution_count": 96
        }
      ]
    }
  ]
}