{
  "nbformat": 4,
  "nbformat_minor": 0,
  "metadata": {
    "colab": {
      "name": "data.ipynb",
      "provenance": [],
      "authorship_tag": "ABX9TyN3LdnwL4FkH3aEfMiZ6ZEM",
      "include_colab_link": true
    },
    "kernelspec": {
      "name": "python3",
      "display_name": "Python 3"
    },
    "language_info": {
      "name": "python"
    }
  },
  "cells": [
    {
      "cell_type": "markdown",
      "metadata": {
        "id": "view-in-github",
        "colab_type": "text"
      },
      "source": [
        "<a href=\"https://colab.research.google.com/github/fromakim/Afterburner/blob/main/data.ipynb\" target=\"_parent\"><img src=\"https://colab.research.google.com/assets/colab-badge.svg\" alt=\"Open In Colab\"/></a>"
      ]
    },
    {
      "cell_type": "markdown",
      "metadata": {
        "id": "53TLK-z_QS0p"
      },
      "source": [
        "# Afterburner Data Collector\n",
        "\n",
        "고민거리들.\n",
        "1. OCR을 해야 할까? 일반적인 텍스트에서 유용한 정보가 너무 없고 오히려 이미지에 중요한 정보가 많은 것 같다. 특히, Instagram의 특성상 이미지가 중요해서 더욱 그런 것 같다.\n",
        "2. Spam 또는 광고를 어떻게 처리해야 할까? ClickBait 문제와 실제 공부 내용이 아닌 광고들이 너무 많은 것 같기도 하다."
      ]
    },
    {
      "cell_type": "markdown",
      "metadata": {
        "id": "hP5W_HCbQVhp"
      },
      "source": [
        "## 💽 1. Environment Setup"
      ]
    },
    {
      "cell_type": "markdown",
      "metadata": {
        "id": "-1XfdqmFQjsF"
      },
      "source": [
        "### 1-1. Install Packages"
      ]
    },
    {
      "cell_type": "code",
      "metadata": {
        "id": "JdPErLxjQjUN"
      },
      "source": [
        "import time\n",
        "import json\n",
        "import re\n",
        "\n",
        "import pandas as pd"
      ],
      "execution_count": 32,
      "outputs": []
    },
    {
      "cell_type": "markdown",
      "metadata": {
        "id": "6y2ag66qQZIt"
      },
      "source": [
        "### 1-2. Selenium Setup"
      ]
    },
    {
      "cell_type": "code",
      "metadata": {
        "colab": {
          "base_uri": "https://localhost:8080/"
        },
        "id": "AA0PyjiwOLB5",
        "outputId": "22f3e689-31d3-4633-daf6-f122031110d4"
      },
      "source": [
        "!pip install selenium\n",
        "!apt-get update # to update ubuntu to correctly run apt install\n",
        "!apt install chromium-chromedriver\n",
        "!cp /usr/lib/chromium-browser/chromedriver /usr/bin"
      ],
      "execution_count": 2,
      "outputs": [
        {
          "metadata": {
            "tags": null
          },
          "name": "stdout",
          "output_type": "stream",
          "text": [
            "Collecting selenium\n",
            "  Downloading selenium-3.141.0-py2.py3-none-any.whl (904 kB)\n",
            "\u001b[K     |████████████████████████████████| 904 kB 32.2 MB/s \n",
            "\u001b[?25hRequirement already satisfied: urllib3 in /usr/local/lib/python3.7/dist-packages (from selenium) (1.24.3)\n",
            "Installing collected packages: selenium\n",
            "Successfully installed selenium-3.141.0\n",
            "Get:1 http://security.ubuntu.com/ubuntu bionic-security InRelease [88.7 kB]\n",
            "Get:2 https://cloud.r-project.org/bin/linux/ubuntu bionic-cran40/ InRelease [3,626 B]\n",
            "Ign:3 https://developer.download.nvidia.com/compute/cuda/repos/ubuntu1804/x86_64  InRelease\n",
            "Hit:4 http://ppa.launchpad.net/c2d4u.team/c2d4u4.0+/ubuntu bionic InRelease\n",
            "Hit:5 http://archive.ubuntu.com/ubuntu bionic InRelease\n",
            "Ign:6 https://developer.download.nvidia.com/compute/machine-learning/repos/ubuntu1804/x86_64  InRelease\n",
            "Hit:7 https://developer.download.nvidia.com/compute/cuda/repos/ubuntu1804/x86_64  Release\n",
            "Hit:8 https://developer.download.nvidia.com/compute/machine-learning/repos/ubuntu1804/x86_64  Release\n",
            "Get:9 http://archive.ubuntu.com/ubuntu bionic-updates InRelease [88.7 kB]\n",
            "Hit:10 http://ppa.launchpad.net/cran/libgit2/ubuntu bionic InRelease\n",
            "Get:11 https://cloud.r-project.org/bin/linux/ubuntu bionic-cran40/ Packages [66.6 kB]\n",
            "Hit:12 http://ppa.launchpad.net/deadsnakes/ppa/ubuntu bionic InRelease\n",
            "Get:13 http://archive.ubuntu.com/ubuntu bionic-backports InRelease [74.6 kB]\n",
            "Get:14 http://security.ubuntu.com/ubuntu bionic-security/main amd64 Packages [2,294 kB]\n",
            "Get:15 http://ppa.launchpad.net/graphics-drivers/ppa/ubuntu bionic InRelease [21.3 kB]\n",
            "Get:16 http://security.ubuntu.com/ubuntu bionic-security/universe amd64 Packages [1,426 kB]\n",
            "Get:19 http://archive.ubuntu.com/ubuntu bionic-updates/main amd64 Packages [2,730 kB]\n",
            "Get:20 http://archive.ubuntu.com/ubuntu bionic-updates/universe amd64 Packages [2,199 kB]\n",
            "Get:21 http://ppa.launchpad.net/graphics-drivers/ppa/ubuntu bionic/main amd64 Packages [41.6 kB]\n",
            "Fetched 9,034 kB in 3s (2,646 kB/s)\n",
            "Reading package lists... Done\n",
            "Reading package lists... Done\n",
            "Building dependency tree       \n",
            "Reading state information... Done\n",
            "The following package was automatically installed and is no longer required:\n",
            "  libnvidia-common-460\n",
            "Use 'apt autoremove' to remove it.\n",
            "The following additional packages will be installed:\n",
            "  chromium-browser chromium-browser-l10n chromium-codecs-ffmpeg-extra\n",
            "Suggested packages:\n",
            "  webaccounts-chromium-extension unity-chromium-extension\n",
            "The following NEW packages will be installed:\n",
            "  chromium-browser chromium-browser-l10n chromium-chromedriver\n",
            "  chromium-codecs-ffmpeg-extra\n",
            "0 upgraded, 4 newly installed, 0 to remove and 57 not upgraded.\n",
            "Need to get 91.8 MB of archives.\n",
            "After this operation, 315 MB of additional disk space will be used.\n",
            "Get:1 http://archive.ubuntu.com/ubuntu bionic-updates/universe amd64 chromium-codecs-ffmpeg-extra amd64 92.0.4515.159-0ubuntu0.18.04.1 [1,124 kB]\n",
            "Get:2 http://archive.ubuntu.com/ubuntu bionic-updates/universe amd64 chromium-browser amd64 92.0.4515.159-0ubuntu0.18.04.1 [81.7 MB]\n",
            "Get:3 http://archive.ubuntu.com/ubuntu bionic-updates/universe amd64 chromium-browser-l10n all 92.0.4515.159-0ubuntu0.18.04.1 [4,026 kB]\n",
            "Get:4 http://archive.ubuntu.com/ubuntu bionic-updates/universe amd64 chromium-chromedriver amd64 92.0.4515.159-0ubuntu0.18.04.1 [4,902 kB]\n",
            "Fetched 91.8 MB in 3s (26.6 MB/s)\n",
            "Selecting previously unselected package chromium-codecs-ffmpeg-extra.\n",
            "(Reading database ... 148489 files and directories currently installed.)\n",
            "Preparing to unpack .../chromium-codecs-ffmpeg-extra_92.0.4515.159-0ubuntu0.18.04.1_amd64.deb ...\n",
            "Unpacking chromium-codecs-ffmpeg-extra (92.0.4515.159-0ubuntu0.18.04.1) ...\n",
            "Selecting previously unselected package chromium-browser.\n",
            "Preparing to unpack .../chromium-browser_92.0.4515.159-0ubuntu0.18.04.1_amd64.deb ...\n",
            "Unpacking chromium-browser (92.0.4515.159-0ubuntu0.18.04.1) ...\n",
            "Selecting previously unselected package chromium-browser-l10n.\n",
            "Preparing to unpack .../chromium-browser-l10n_92.0.4515.159-0ubuntu0.18.04.1_all.deb ...\n",
            "Unpacking chromium-browser-l10n (92.0.4515.159-0ubuntu0.18.04.1) ...\n",
            "Selecting previously unselected package chromium-chromedriver.\n",
            "Preparing to unpack .../chromium-chromedriver_92.0.4515.159-0ubuntu0.18.04.1_amd64.deb ...\n",
            "Unpacking chromium-chromedriver (92.0.4515.159-0ubuntu0.18.04.1) ...\n",
            "Setting up chromium-codecs-ffmpeg-extra (92.0.4515.159-0ubuntu0.18.04.1) ...\n",
            "Setting up chromium-browser (92.0.4515.159-0ubuntu0.18.04.1) ...\n",
            "update-alternatives: using /usr/bin/chromium-browser to provide /usr/bin/x-www-browser (x-www-browser) in auto mode\n",
            "update-alternatives: using /usr/bin/chromium-browser to provide /usr/bin/gnome-www-browser (gnome-www-browser) in auto mode\n",
            "Setting up chromium-chromedriver (92.0.4515.159-0ubuntu0.18.04.1) ...\n",
            "Setting up chromium-browser-l10n (92.0.4515.159-0ubuntu0.18.04.1) ...\n",
            "Processing triggers for man-db (2.8.3-2ubuntu0.1) ...\n",
            "Processing triggers for hicolor-icon-theme (0.17-2) ...\n",
            "Processing triggers for mime-support (3.60ubuntu1) ...\n",
            "Processing triggers for libc-bin (2.27-3ubuntu1.2) ...\n",
            "/sbin/ldconfig.real: /usr/local/lib/python3.7/dist-packages/ideep4py/lib/libmkldnn.so.0 is not a symbolic link\n",
            "\n",
            "cp: '/usr/lib/chromium-browser/chromedriver' and '/usr/bin/chromedriver' are the same file\n"
          ]
        }
      ]
    },
    {
      "cell_type": "code",
      "metadata": {
        "id": "uSVMhq0_OOL6"
      },
      "source": [
        "import sys\n",
        "sys.path.insert(0,'/usr/lib/chromium-browser/chromedriver')"
      ],
      "execution_count": 3,
      "outputs": []
    },
    {
      "cell_type": "code",
      "metadata": {
        "id": "1Rf1LiTTHS0y"
      },
      "source": [
        "from selenium import webdriver\n",
        "chrome_options = webdriver.ChromeOptions()\n",
        "chrome_options.add_argument('--headless')\n",
        "chrome_options.add_argument('--no-sandbox')\n",
        "chrome_options.add_argument('--disable-dev-shm-usage')\n",
        "chrome_options.add_argument(\"user-agent=Mozilla/5.0 (Windows NT 6.1; WOW64; Trident/7.0; rv:11.0) like Gecko\")\n",
        "wd = webdriver.Chrome('chromedriver', options=chrome_options)"
      ],
      "execution_count": 4,
      "outputs": []
    },
    {
      "cell_type": "markdown",
      "metadata": {
        "id": "tIoIiwqzWs5Y"
      },
      "source": [
        "### 1-3. Global Variables"
      ]
    },
    {
      "cell_type": "code",
      "metadata": {
        "id": "bQUA8MjmWwQQ"
      },
      "source": [
        "NUM_SCROLL = 10\n",
        "\n",
        "SHORT_WAIT_TIME = 2\n",
        "MEDIUM_WAIT_TIME = 5\n",
        "LONG_WAIT_TIME = 10"
      ],
      "execution_count": 5,
      "outputs": []
    },
    {
      "cell_type": "markdown",
      "metadata": {
        "id": "FRLAsBvSQs_A"
      },
      "source": [
        "## 📚 2. Data Collection"
      ]
    },
    {
      "cell_type": "markdown",
      "metadata": {
        "id": "aiwyP_E6Qu7V"
      },
      "source": [
        "### 2-1. Instagram Login"
      ]
    },
    {
      "cell_type": "code",
      "metadata": {
        "id": "RDVlLs5nU4-j"
      },
      "source": [
        "with open(\"keys.json\", \"r\") as f:\n",
        "    keys = json.load(f)"
      ],
      "execution_count": 6,
      "outputs": []
    },
    {
      "cell_type": "code",
      "metadata": {
        "id": "1xW1M_cuJpI3"
      },
      "source": [
        "wd.get('https://www.instagram.com')\n",
        "time.sleep(MEDIUM_WAIT_TIME)"
      ],
      "execution_count": 7,
      "outputs": []
    },
    {
      "cell_type": "code",
      "metadata": {
        "id": "nPFulBmoLvix"
      },
      "source": [
        "username = wd.find_element_by_css_selector('#loginForm > div > div:nth-child(1) > div > label > input')\n",
        "password = wd.find_element_by_css_selector('#loginForm > div > div:nth-child(2) > div > label > input')\n",
        "login = wd.find_element_by_css_selector('#loginForm > div > div:nth-child(3) > button')"
      ],
      "execution_count": 8,
      "outputs": []
    },
    {
      "cell_type": "code",
      "metadata": {
        "id": "WQNrubcKL8o3"
      },
      "source": [
        "username.send_keys(keys['id'])\n",
        "time.sleep(SHORT_WAIT_TIME)\n",
        "password.send_keys(keys['pw'])\n",
        "time.sleep(SHORT_WAIT_TIME)\n",
        "login.click()\n",
        "time.sleep(SHORT_WAIT_TIME)"
      ],
      "execution_count": 9,
      "outputs": []
    },
    {
      "cell_type": "code",
      "metadata": {
        "id": "KOkpawuQMN7d"
      },
      "source": [
        "wd.find_element_by_css_selector('#react-root > section > div > div > div.GA2q- > form > span > button').click()\n",
        "time.sleep(SHORT_WAIT_TIME)"
      ],
      "execution_count": 11,
      "outputs": []
    },
    {
      "cell_type": "code",
      "metadata": {
        "colab": {
          "base_uri": "https://localhost:8080/"
        },
        "id": "PpyspiHxNjtE",
        "outputId": "5f8f75d2-b72a-414c-ce84-e10505c1b75d"
      },
      "source": [
        "wd.find_element_by_css_selector('input').click()\n",
        "time.sleep(SHORT_WAIT_TIME)\n",
        "\n",
        "code = input('Keys:')\n",
        "\n",
        "wd.find_element_by_css_selector('input').send_keys(code)\n",
        "time.sleep(SHORT_WAIT_TIME)\n",
        "\n",
        "wd.find_element_by_css_selector('#react-root > section > div > div > div.GA2q- > form > span > button').click()\n",
        "time.sleep(SHORT_WAIT_TIME)"
      ],
      "execution_count": 13,
      "outputs": [
        {
          "output_type": "stream",
          "text": [
            "Keys:635748\n"
          ],
          "name": "stdout"
        }
      ]
    },
    {
      "cell_type": "markdown",
      "metadata": {
        "id": "ImgoiTX4QxxB"
      },
      "source": [
        "### 2-2. Retrieve Post List"
      ]
    },
    {
      "cell_type": "code",
      "metadata": {
        "id": "odAXj5KeOeMo"
      },
      "source": [
        "wd.get('https://www.instagram.com/explore/tags/공스타그램/')"
      ],
      "execution_count": 16,
      "outputs": []
    },
    {
      "cell_type": "code",
      "metadata": {
        "id": "GQSNFfb9QKxN"
      },
      "source": [
        "for i in range(NUM_SCROLL):\n",
        "    wd.execute_script(\"window.scrollTo(0, document.body.scrollHeight);\")\n",
        "\n",
        "    time.sleep(LONG_WAIT_TIME)"
      ],
      "execution_count": 19,
      "outputs": []
    },
    {
      "cell_type": "code",
      "metadata": {
        "colab": {
          "base_uri": "https://localhost:8080/"
        },
        "id": "nTauhnnMR3mY",
        "outputId": "2290e0b9-ece1-49ee-f0ad-6f0b3b82e33f"
      },
      "source": [
        "posts = wd.find_elements_by_css_selector('#react-root > section > main > article > div:nth-child(3) > div > div > div > a')\n",
        "posts = pd.DataFrame(list(map(lambda x : x.get_attribute('href'), posts)), columns = ['link'])\n",
        "print(len(posts))"
      ],
      "execution_count": 20,
      "outputs": [
        {
          "output_type": "stream",
          "text": [
            "36\n"
          ],
          "name": "stdout"
        }
      ]
    },
    {
      "cell_type": "code",
      "metadata": {
        "id": "Gxq_4Ux8al8K"
      },
      "source": [
        "wd.get('https://www.instagram.com')\n",
        "time.sleep(LONG_WAIT_TIME)"
      ],
      "execution_count": 21,
      "outputs": []
    },
    {
      "cell_type": "markdown",
      "metadata": {
        "id": "1zVVA4H3P4Up"
      },
      "source": [
        "### 2-3. Retrieve Text"
      ]
    },
    {
      "cell_type": "code",
      "metadata": {
        "id": "HhBDmigJf6kB"
      },
      "source": [
        "posts['text'] = ''"
      ],
      "execution_count": 22,
      "outputs": []
    },
    {
      "cell_type": "code",
      "metadata": {
        "colab": {
          "base_uri": "https://localhost:8080/",
          "height": 1000
        },
        "id": "LQ-mnF9IMKET",
        "outputId": "72dd03a3-b9d3-473c-a8ee-7dbe3d85ee77"
      },
      "source": [
        "posts"
      ],
      "execution_count": 26,
      "outputs": [
        {
          "output_type": "execute_result",
          "data": {
            "text/html": [
              "<div>\n",
              "<style scoped>\n",
              "    .dataframe tbody tr th:only-of-type {\n",
              "        vertical-align: middle;\n",
              "    }\n",
              "\n",
              "    .dataframe tbody tr th {\n",
              "        vertical-align: top;\n",
              "    }\n",
              "\n",
              "    .dataframe thead th {\n",
              "        text-align: right;\n",
              "    }\n",
              "</style>\n",
              "<table border=\"1\" class=\"dataframe\">\n",
              "  <thead>\n",
              "    <tr style=\"text-align: right;\">\n",
              "      <th></th>\n",
              "      <th>link</th>\n",
              "      <th>text</th>\n",
              "    </tr>\n",
              "  </thead>\n",
              "  <tbody>\n",
              "    <tr>\n",
              "      <th>0</th>\n",
              "      <td>https://www.instagram.com/p/CTJpZcCHDmd/</td>\n",
              "      <td>💟이미지나 사진만 보고 구매한 랜덤팩에 실망하신적 있나요?🥺\\n⠀\\n그렇다면 실물을...</td>\n",
              "    </tr>\n",
              "    <tr>\n",
              "      <th>1</th>\n",
              "      <td>https://www.instagram.com/p/CTJVOTuBABu/</td>\n",
              "      <td>Slowly, But Steady\\n스터디 그룹 1기를 모집합니다.\\n\\n1. 조건...</td>\n",
              "    </tr>\n",
              "    <tr>\n",
              "      <th>2</th>\n",
              "      <td>https://www.instagram.com/p/CTIz4TZB0Ov/</td>\n",
              "      <td>도서관 문 열자마자 뛰어오기\\n\\n.\\n\\n.\\n“\\n#공스타그램 #공스타 #공부자...</td>\n",
              "    </tr>\n",
              "    <tr>\n",
              "      <th>3</th>\n",
              "      <td>https://www.instagram.com/p/CS7K6KyhdSE/</td>\n",
              "      <td>힘들…어…..\\n\\n.\\n\\n.\\n“\\n#공스타그램 #공스타 #공부자극 #공부스타그...</td>\n",
              "    </tr>\n",
              "    <tr>\n",
              "      <th>4</th>\n",
              "      <td>https://www.instagram.com/p/CS6rVmohLJE/</td>\n",
              "      <td>오늘 다 끝낸다\\n\\n.\\n\\n.\\n“\\n#공스타그램 #공스타 #공부자극 #공부스타...</td>\n",
              "    </tr>\n",
              "    <tr>\n",
              "      <th>5</th>\n",
              "      <td>https://www.instagram.com/p/CSeH278FleL/</td>\n",
              "      <td>알맹의 소망 떡메모지✨\\n.\\n여러분들도 개강준비 잘 하고 계신가요?\\n알맹의 하늘...</td>\n",
              "    </tr>\n",
              "    <tr>\n",
              "      <th>6</th>\n",
              "      <td>https://www.instagram.com/p/CTJu_U3FZnF/</td>\n",
              "      <td>2021.08.28\\n.\\n.\\n.\\n.\\n.\\n\\n#공스타그램 #공부 #book ...</td>\n",
              "    </tr>\n",
              "    <tr>\n",
              "      <th>7</th>\n",
              "      <td>https://www.instagram.com/p/CTJu9ygBFQz/</td>\n",
              "      <td>cute leaves🌱\\n\\n—————————\\n\\nschool starts tom...</td>\n",
              "    </tr>\n",
              "    <tr>\n",
              "      <th>8</th>\n",
              "      <td>https://www.instagram.com/p/CTJu7sjF1I-/</td>\n",
              "      <td>2021.08.27\\n.\\n.\\n.\\n.\\n.\\n\\n#공스타그램 #공부 #book ...</td>\n",
              "    </tr>\n",
              "    <tr>\n",
              "      <th>9</th>\n",
              "      <td>https://www.instagram.com/p/CTJu7l2B5kH/</td>\n",
              "      <td>\"남들 시선 의식하지 말고 너가 행복해 지는 일을 해\"\\n#square #공부 #공...</td>\n",
              "    </tr>\n",
              "    <tr>\n",
              "      <th>10</th>\n",
              "      <td>https://www.instagram.com/p/CTJu214lawx/</td>\n",
              "      <td>2021.08.26\\n.\\n.\\n.\\n.\\n.\\n\\n#공스타그램 #공부 #book ...</td>\n",
              "    </tr>\n",
              "    <tr>\n",
              "      <th>11</th>\n",
              "      <td>https://www.instagram.com/p/CTJu2sKhgV6/</td>\n",
              "      <td>오늘도 나타에 젖은 채로 누워서 주말을 보내려했는데 갑자기 알림이떠서 보니 평일의 ...</td>\n",
              "    </tr>\n",
              "    <tr>\n",
              "      <th>12</th>\n",
              "      <td>https://www.instagram.com/p/CTJu1Yllveq/</td>\n",
              "      <td>Best🖤\\n실패 없이 모두 만족하는 바게트백\\n\\n정말수 없이 설명드리는\\n퀄라인...</td>\n",
              "    </tr>\n",
              "    <tr>\n",
              "      <th>13</th>\n",
              "      <td>https://www.instagram.com/p/CTJu1BOlzS9/</td>\n",
              "      <td>Best🖤\\n실패 없이 모두 만족하는 바게트백\\n\\n정말수 없이 설명드리는\\n퀄라인...</td>\n",
              "    </tr>\n",
              "    <tr>\n",
              "      <th>14</th>\n",
              "      <td>https://www.instagram.com/p/CTJu0shnsVE/</td>\n",
              "      <td>Best🖤\\n실패 없이 모두 만족하는 바게트백\\n\\n정말수 없이 설명드리는\\n퀄라인...</td>\n",
              "    </tr>\n",
              "    <tr>\n",
              "      <th>15</th>\n",
              "      <td>https://www.instagram.com/p/CTJuzWahAk-/</td>\n",
              "      <td>#공부스타그램📖✏ #공스타그램 Ncs 공부 2일차 추론 문항 다 틀려버리는 참사가 ...</td>\n",
              "    </tr>\n",
              "    <tr>\n",
              "      <th>16</th>\n",
              "      <td>https://www.instagram.com/p/CTJuzVsFgJP/</td>\n",
              "      <td>2021.08.25\\n.\\n.\\n.\\n.\\n.\\n\\n#공스타그램 #공부 #book ...</td>\n",
              "    </tr>\n",
              "    <tr>\n",
              "      <th>17</th>\n",
              "      <td>https://www.instagram.com/p/CTJutHvFedk/</td>\n",
              "      <td>씁</td>\n",
              "    </tr>\n",
              "    <tr>\n",
              "      <th>18</th>\n",
              "      <td>https://www.instagram.com/p/CTJurfcFA3J/</td>\n",
              "      <td>2021.08.24\\n.\\n.\\n.\\n.\\n.\\n\\n#공스타그램 #공부 #book ...</td>\n",
              "    </tr>\n",
              "    <tr>\n",
              "      <th>19</th>\n",
              "      <td>https://www.instagram.com/p/CTJurEkBxOx/</td>\n",
              "      <td>#8월모트트레인6일차 #모트트레인 #모트모트 #공스타그램 #공스타 #07 #07공스...</td>\n",
              "    </tr>\n",
              "    <tr>\n",
              "      <th>20</th>\n",
              "      <td>https://www.instagram.com/p/CTJuoygBLyk/</td>\n",
              "      <td>24일부터 27일까지 공부했던 기록들! 과탐도 하긴 했는데 사진이 길어서 그런가 잘...</td>\n",
              "    </tr>\n",
              "    <tr>\n",
              "      <th>21</th>\n",
              "      <td>https://www.instagram.com/p/CTJuhW4B-7s/</td>\n",
              "      <td>ㅋㅋㅋㅋㅋㅋㅋㅋㅋㅋㅋㅋㅋㅋㅋㅋㅋㅋㅋㅋㅋㅋㅋㅋㅋㅋㅋㅋㅋㅋㅋㅋㅋㅋㅋㅋㅋㅋㅋㅋㅋㅋㅋㅋㅋㅋ...</td>\n",
              "    </tr>\n",
              "    <tr>\n",
              "      <th>22</th>\n",
              "      <td>https://www.instagram.com/p/CTJugqZh54_/</td>\n",
              "      <td>21.8.28 🍕 #8월모트트레인6일차\\n\\n.\\n.\\n.\\n.\\n.\\n.\\n#공스...</td>\n",
              "    </tr>\n",
              "    <tr>\n",
              "      <th>23</th>\n",
              "      <td>https://www.instagram.com/p/CTJugsdB67D/</td>\n",
              "      <td>#중간피드\\n.\\n.\\n.\\n#고2 #공스타그램 #공스타맞팔</td>\n",
              "    </tr>\n",
              "    <tr>\n",
              "      <th>24</th>\n",
              "      <td>https://www.instagram.com/p/CTJubP5lNBh/</td>\n",
              "      <td>☁️스그대항전 나가실 분 모집합니다☁️\\n\\n#스터디그룹 #스터디그룹모집 #공스타그...</td>\n",
              "    </tr>\n",
              "    <tr>\n",
              "      <th>25</th>\n",
              "      <td>https://www.instagram.com/p/CTJuZW_Bh-6/</td>\n",
              "      <td>*해커스톡영어회화10분의기적*\\n이번 챕터에서는 로맨틱코미디영화에서 많이 나오는 표...</td>\n",
              "    </tr>\n",
              "    <tr>\n",
              "      <th>26</th>\n",
              "      <td>https://www.instagram.com/p/CTJuXOSlE1O/</td>\n",
              "      <td>만렙AM 2-2\\n\\n챌린지가 마무리되어도 꾸준히 열공--❤️❤️\\n\\n6 ...</td>\n",
              "    </tr>\n",
              "    <tr>\n",
              "      <th>27</th>\n",
              "      <td>https://www.instagram.com/p/CTJuW5BhUar/</td>\n",
              "      <td>네 오빠.😎\\n\\n#공스타그램#공부#공부자극#스터디#아이패드#공부책상#책상인증#공스...</td>\n",
              "    </tr>\n",
              "    <tr>\n",
              "      <th>28</th>\n",
              "      <td>https://www.instagram.com/p/CTJuWHrBJJq/</td>\n",
              "      <td>애니 안보지만.. 스티커 너무 이뻐서..🤍🤍\\n♥︎\\n♥︎\\n#8월모트트레인6일차</td>\n",
              "    </tr>\n",
              "    <tr>\n",
              "      <th>29</th>\n",
              "      <td>https://www.instagram.com/p/CTJuRCHBUp8/</td>\n",
              "      <td>ㅎb들ズl 않ㅇr つㅓ친 정글속øłl 뛰øł든 건 ㄴr니까 i’m Økay</td>\n",
              "    </tr>\n",
              "    <tr>\n",
              "      <th>30</th>\n",
              "      <td>https://www.instagram.com/p/CTJuQRABfcd/</td>\n",
              "      <td>1000F 감사드립니다💗\\n피드 업로드 너무 뜸해지지 않도록 더 열공해야겠어요(۶•...</td>\n",
              "    </tr>\n",
              "    <tr>\n",
              "      <th>31</th>\n",
              "      <td>https://www.instagram.com/p/CTJuP57ptsc/</td>\n",
              "      <td>어제 공부 인증입니당!! 오늘은 놀려구요오!! ☺ 다들 좋은 주말 되세요!😊🥰\\n#...</td>\n",
              "    </tr>\n",
              "    <tr>\n",
              "      <th>32</th>\n",
              "      <td>https://www.instagram.com/p/CTJuPnPhAnf/</td>\n",
              "      <td>흑백 좋아 #8월모트트레인6일차 #공스타 #공스타그램 #공스타맞팔 #공스타그램맞팔 ...</td>\n",
              "    </tr>\n",
              "    <tr>\n",
              "      <th>33</th>\n",
              "      <td>https://www.instagram.com/p/CTJuMPJHmct/</td>\n",
              "      <td>우리 모두 함께라면 뭐든지 할수있따! 다들 홧팅!♡\\n#스그대항전 #모트모트 #공스...</td>\n",
              "    </tr>\n",
              "    <tr>\n",
              "      <th>34</th>\n",
              "      <td>https://www.instagram.com/p/CTJt_lVJg6k/</td>\n",
              "      <td>⁡\\n𓂃𓈒𓂂𝐌𝐚𝐭𝐜𝐡𝐚 𝐋𝐚𝐭𝐭𝐞🫖\\n⁡\\nちょっと気分を変えて…💭\\n(勉強と関係なく...</td>\n",
              "    </tr>\n",
              "    <tr>\n",
              "      <th>35</th>\n",
              "      <td>https://www.instagram.com/p/CTJh8lOBcQo/</td>\n",
              "      <td></td>\n",
              "    </tr>\n",
              "  </tbody>\n",
              "</table>\n",
              "</div>"
            ],
            "text/plain": [
              "                                        link                                               text\n",
              "0   https://www.instagram.com/p/CTJpZcCHDmd/  💟이미지나 사진만 보고 구매한 랜덤팩에 실망하신적 있나요?🥺\\n⠀\\n그렇다면 실물을...\n",
              "1   https://www.instagram.com/p/CTJVOTuBABu/  Slowly, But Steady\\n스터디 그룹 1기를 모집합니다.\\n\\n1. 조건...\n",
              "2   https://www.instagram.com/p/CTIz4TZB0Ov/  도서관 문 열자마자 뛰어오기\\n\\n.\\n\\n.\\n“\\n#공스타그램 #공스타 #공부자...\n",
              "3   https://www.instagram.com/p/CS7K6KyhdSE/  힘들…어…..\\n\\n.\\n\\n.\\n“\\n#공스타그램 #공스타 #공부자극 #공부스타그...\n",
              "4   https://www.instagram.com/p/CS6rVmohLJE/  오늘 다 끝낸다\\n\\n.\\n\\n.\\n“\\n#공스타그램 #공스타 #공부자극 #공부스타...\n",
              "5   https://www.instagram.com/p/CSeH278FleL/  알맹의 소망 떡메모지✨\\n.\\n여러분들도 개강준비 잘 하고 계신가요?\\n알맹의 하늘...\n",
              "6   https://www.instagram.com/p/CTJu_U3FZnF/  2021.08.28\\n.\\n.\\n.\\n.\\n.\\n\\n#공스타그램 #공부 #book ...\n",
              "7   https://www.instagram.com/p/CTJu9ygBFQz/  cute leaves🌱\\n\\n—————————\\n\\nschool starts tom...\n",
              "8   https://www.instagram.com/p/CTJu7sjF1I-/  2021.08.27\\n.\\n.\\n.\\n.\\n.\\n\\n#공스타그램 #공부 #book ...\n",
              "9   https://www.instagram.com/p/CTJu7l2B5kH/  \"남들 시선 의식하지 말고 너가 행복해 지는 일을 해\"\\n#square #공부 #공...\n",
              "10  https://www.instagram.com/p/CTJu214lawx/  2021.08.26\\n.\\n.\\n.\\n.\\n.\\n\\n#공스타그램 #공부 #book ...\n",
              "11  https://www.instagram.com/p/CTJu2sKhgV6/  오늘도 나타에 젖은 채로 누워서 주말을 보내려했는데 갑자기 알림이떠서 보니 평일의 ...\n",
              "12  https://www.instagram.com/p/CTJu1Yllveq/  Best🖤\\n실패 없이 모두 만족하는 바게트백\\n\\n정말수 없이 설명드리는\\n퀄라인...\n",
              "13  https://www.instagram.com/p/CTJu1BOlzS9/  Best🖤\\n실패 없이 모두 만족하는 바게트백\\n\\n정말수 없이 설명드리는\\n퀄라인...\n",
              "14  https://www.instagram.com/p/CTJu0shnsVE/  Best🖤\\n실패 없이 모두 만족하는 바게트백\\n\\n정말수 없이 설명드리는\\n퀄라인...\n",
              "15  https://www.instagram.com/p/CTJuzWahAk-/  #공부스타그램📖✏ #공스타그램 Ncs 공부 2일차 추론 문항 다 틀려버리는 참사가 ...\n",
              "16  https://www.instagram.com/p/CTJuzVsFgJP/  2021.08.25\\n.\\n.\\n.\\n.\\n.\\n\\n#공스타그램 #공부 #book ...\n",
              "17  https://www.instagram.com/p/CTJutHvFedk/                                                  씁\n",
              "18  https://www.instagram.com/p/CTJurfcFA3J/  2021.08.24\\n.\\n.\\n.\\n.\\n.\\n\\n#공스타그램 #공부 #book ...\n",
              "19  https://www.instagram.com/p/CTJurEkBxOx/  #8월모트트레인6일차 #모트트레인 #모트모트 #공스타그램 #공스타 #07 #07공스...\n",
              "20  https://www.instagram.com/p/CTJuoygBLyk/  24일부터 27일까지 공부했던 기록들! 과탐도 하긴 했는데 사진이 길어서 그런가 잘...\n",
              "21  https://www.instagram.com/p/CTJuhW4B-7s/  ㅋㅋㅋㅋㅋㅋㅋㅋㅋㅋㅋㅋㅋㅋㅋㅋㅋㅋㅋㅋㅋㅋㅋㅋㅋㅋㅋㅋㅋㅋㅋㅋㅋㅋㅋㅋㅋㅋㅋㅋㅋㅋㅋㅋㅋㅋ...\n",
              "22  https://www.instagram.com/p/CTJugqZh54_/  21.8.28 🍕 #8월모트트레인6일차\\n\\n.\\n.\\n.\\n.\\n.\\n.\\n#공스...\n",
              "23  https://www.instagram.com/p/CTJugsdB67D/                  #중간피드\\n.\\n.\\n.\\n#고2 #공스타그램 #공스타맞팔\n",
              "24  https://www.instagram.com/p/CTJubP5lNBh/  ☁️스그대항전 나가실 분 모집합니다☁️\\n\\n#스터디그룹 #스터디그룹모집 #공스타그...\n",
              "25  https://www.instagram.com/p/CTJuZW_Bh-6/  *해커스톡영어회화10분의기적*\\n이번 챕터에서는 로맨틱코미디영화에서 많이 나오는 표...\n",
              "26  https://www.instagram.com/p/CTJuXOSlE1O/  만렙AM 2-2\\n\\n챌린지가 마무리되어도 꾸준히 열공--❤️❤️\\n\\n6 ...\n",
              "27  https://www.instagram.com/p/CTJuW5BhUar/  네 오빠.😎\\n\\n#공스타그램#공부#공부자극#스터디#아이패드#공부책상#책상인증#공스...\n",
              "28  https://www.instagram.com/p/CTJuWHrBJJq/      애니 안보지만.. 스티커 너무 이뻐서..🤍🤍\\n♥︎\\n♥︎\\n#8월모트트레인6일차\n",
              "29  https://www.instagram.com/p/CTJuRCHBUp8/          ㅎb들ズl 않ㅇr つㅓ친 정글속øłl 뛰øł든 건 ㄴr니까 i’m Økay\n",
              "30  https://www.instagram.com/p/CTJuQRABfcd/  1000F 감사드립니다💗\\n피드 업로드 너무 뜸해지지 않도록 더 열공해야겠어요(۶•...\n",
              "31  https://www.instagram.com/p/CTJuP57ptsc/  어제 공부 인증입니당!! 오늘은 놀려구요오!! ☺ 다들 좋은 주말 되세요!😊🥰\\n#...\n",
              "32  https://www.instagram.com/p/CTJuPnPhAnf/  흑백 좋아 #8월모트트레인6일차 #공스타 #공스타그램 #공스타맞팔 #공스타그램맞팔 ...\n",
              "33  https://www.instagram.com/p/CTJuMPJHmct/  우리 모두 함께라면 뭐든지 할수있따! 다들 홧팅!♡\\n#스그대항전 #모트모트 #공스...\n",
              "34  https://www.instagram.com/p/CTJt_lVJg6k/  ⁡\\n𓂃𓈒𓂂𝐌𝐚𝐭𝐜𝐡𝐚 𝐋𝐚𝐭𝐭𝐞🫖\\n⁡\\nちょっと気分を変えて…💭\\n(勉強と関係なく...\n",
              "35  https://www.instagram.com/p/CTJh8lOBcQo/                                                   "
            ]
          },
          "metadata": {},
          "execution_count": 26
        }
      ]
    },
    {
      "cell_type": "code",
      "metadata": {
        "id": "ksguvIXpd_mZ"
      },
      "source": [
        "for index, row in posts.iterrows():\n",
        "    print('Current Index: (', index, '/', len(posts), ')')\n",
        "\n",
        "    try:\n",
        "        wd.get(row['link'])\n",
        "        time.sleep(MEDIUM_WAIT_TIME)\n",
        "        \n",
        "        text = wd.find_element_by_css_selector('#react-root > section > main > div > div.ltEKP > article > div.eo2As > div.EtaWk > ul > div > li > div > div > div.C4VMK > span').get_attribute('innerText')\n",
        "        posts['text'][index] = text\n",
        "\n",
        "        time.sleep(MEDIUM_WAIT_TIME)\n",
        "    except:\n",
        "        pass\n"
      ],
      "execution_count": null,
      "outputs": []
    },
    {
      "cell_type": "markdown",
      "metadata": {
        "id": "JqvM42XJTpBr"
      },
      "source": [
        "## 🎁 3. Data Preprocessing"
      ]
    },
    {
      "cell_type": "code",
      "metadata": {
        "colab": {
          "base_uri": "https://localhost:8080/"
        },
        "id": "-0Tlij5rHmPj",
        "outputId": "30c1d543-ddbf-4af9-f49f-e30b3bbd2bab"
      },
      "source": [
        "posts['text'].str.replace(' \\\\n', '', regex = True)"
      ],
      "execution_count": 38,
      "outputs": [
        {
          "output_type": "execute_result",
          "data": {
            "text/plain": [
              "0     💟이미지나 사진만 보고 구매한 랜덤팩에 실망하신적 있나요?🥺⠀그렇다면 실물을 보고 ...\n",
              "1     Slowly, But Steady스터디 그룹 1기를 모집합니다.1. 조건1) 공스타...\n",
              "2     도서관 문 열자마자 뛰어오기..“#공스타그램 #공스타 #공부자극 #공부스타그램 #공...\n",
              "3     힘들…어…....“#공스타그램 #공스타 #공부자극 #공부스타그램 #공스타맞팔 #공스...\n",
              "4     오늘 다 끝낸다..“#공스타그램 #공스타 #공부자극 #공부스타그램 #공스타맞팔 #공...\n",
              "5     알맹의 소망 떡메모지✨.여러분들도 개강준비 잘 하고 계신가요?알맹의 하늘색 메모지는...\n",
              "6     2021.08.28.....#공스타그램 #공부 #book #공부자극 #스터디 #시간...\n",
              "7     cute leaves🌱—————————school starts tomorrow, I...\n",
              "8     2021.08.27.....#공스타그램 #공부 #book #공부자극 #스터디 #시간...\n",
              "9     \"남들 시선 의식하지 말고 너가 행복해 지는 일을 해\"#square #공부 #공부자...\n",
              "10    2021.08.26.....#공스타그램 #공부 #book #공부자극 #스터디 #시간...\n",
              "11    오늘도 나타에 젖은 채로 누워서 주말을 보내려했는데 갑자기 알림이떠서 보니 평일의 ...\n",
              "12    Best🖤실패 없이 모두 만족하는 바게트백정말수 없이 설명드리는퀄라인으로 합리적인 ...\n",
              "13    Best🖤실패 없이 모두 만족하는 바게트백정말수 없이 설명드리는퀄라인으로 합리적인 ...\n",
              "14    Best🖤실패 없이 모두 만족하는 바게트백정말수 없이 설명드리는퀄라인으로 합리적인 ...\n",
              "15    #공부스타그램📖✏ #공스타그램 Ncs 공부 2일차 추론 문항 다 틀려버리는 참사가 ...\n",
              "16    2021.08.25.....#공스타그램 #공부 #book #공부자극 #스터디 #시간...\n",
              "17                                                    씁\n",
              "18    2021.08.24.....#공스타그램 #공부 #book #공부자극 #스터디 #시간...\n",
              "19    #8월모트트레인6일차 #모트트레인 #모트모트 #공스타그램 #공스타 #07 #07공스...\n",
              "20    24일부터 27일까지 공부했던 기록들! 과탐도 하긴 했는데 사진이 길어서 그런가 잘...\n",
              "21    ㅋㅋㅋㅋㅋㅋㅋㅋㅋㅋㅋㅋㅋㅋㅋㅋㅋㅋㅋㅋㅋㅋㅋㅋㅋㅋㅋㅋㅋㅋㅋㅋㅋㅋㅋㅋㅋㅋㅋㅋㅋㅋㅋㅋㅋㅋ...\n",
              "22    21.8.28 🍕 #8월모트트레인6일차......#공스타그램 #공스타 #공스타맞팔 ...\n",
              "23                            #중간피드...#고2 #공스타그램 #공스타맞팔\n",
              "24    ☁️스그대항전 나가실 분 모집합니다☁️#스터디그룹 #스터디그룹모집 #공스타그램 #공...\n",
              "25    *해커스톡영어회화10분의기적*이번 챕터에서는 로맨틱코미디영화에서 많이 나오는 표현을...\n",
              "26    만렙AM 2-2챌린지가 마무리되어도 꾸준히 열공--❤️❤️6 평행선과 선분의...\n",
              "27    네 오빠.😎#공스타그램#공부#공부자극#스터디#아이패드#공부책상#책상인증#공스타#방탄...\n",
              "28              애니 안보지만.. 스티커 너무 이뻐서..🤍🤍♥︎♥︎#8월모트트레인6일차\n",
              "29            ㅎb들ズl 않ㅇr つㅓ친 정글속øłl 뛰øł든 건 ㄴr니까 i’m Økay\n",
              "30    1000F 감사드립니다💗피드 업로드 너무 뜸해지지 않도록 더 열공해야겠어요(۶•̀ᴗ...\n",
              "31    어제 공부 인증입니당!! 오늘은 놀려구요오!! ☺ 다들 좋은 주말 되세요!😊🥰#오늘...\n",
              "32    흑백 좋아 #8월모트트레인6일차 #공스타 #공스타그램 #공스타맞팔 #공스타그램맞팔 ...\n",
              "33    우리 모두 함께라면 뭐든지 할수있따! 다들 홧팅!♡#스그대항전 #모트모트 #공스타그...\n",
              "34    ⁡𓂃𓈒𓂂𝐌𝐚𝐭𝐜𝐡𝐚 𝐋𝐚𝐭𝐭𝐞🫖⁡ちょっと気分を変えて…💭(勉強と関係なくてすみません🙇🏻...\n",
              "35                                                     \n",
              "Name: text, dtype: object"
            ]
          },
          "metadata": {},
          "execution_count": 38
        }
      ]
    },
    {
      "cell_type": "code",
      "metadata": {
        "colab": {
          "base_uri": "https://localhost:8080/"
        },
        "id": "Y5E1ZUFfJsif",
        "outputId": "5e462674-9379-4f74-d107-c988b8aa0c1e"
      },
      "source": [
        "wd.save_screenshot('current.png')"
      ],
      "execution_count": 25,
      "outputs": [
        {
          "output_type": "execute_result",
          "data": {
            "text/plain": [
              "True"
            ]
          },
          "metadata": {},
          "execution_count": 25
        }
      ]
    }
  ]
}